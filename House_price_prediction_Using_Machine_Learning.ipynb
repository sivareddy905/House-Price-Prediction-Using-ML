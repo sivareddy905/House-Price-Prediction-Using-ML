{
  "nbformat": 4,
  "nbformat_minor": 0,
  "metadata": {
    "colab": {
      "provenance": [],
      "authorship_tag": "ABX9TyNtz8FeOuyO1scyAoyJADj0",
      "include_colab_link": true
    },
    "kernelspec": {
      "name": "python3",
      "display_name": "Python 3"
    },
    "language_info": {
      "name": "python"
    }
  },
  "cells": [
    {
      "cell_type": "markdown",
      "metadata": {
        "id": "view-in-github",
        "colab_type": "text"
      },
      "source": [
        "<a href=\"https://colab.research.google.com/github/sivareddy905/House-Price-Prediction-Using-ML/blob/main/House_price_prediction_Using_Machine_Learning.ipynb\" target=\"_parent\"><img src=\"https://colab.research.google.com/assets/colab-badge.svg\" alt=\"Open In Colab\"/></a>"
      ]
    },
    {
      "cell_type": "code",
      "execution_count": null,
      "metadata": {
        "id": "3PRTJ1T2qq01"
      },
      "outputs": [],
      "source": [
        "import pandas as pd\n",
        "import numpy as np\n",
        "import matplotlib.pyplot as plt\n",
        "import seaborn as sns\n",
        "from sklearn.model_selection import train_test_split\n",
        "from sklearn.preprocessing import StandardScaler\n",
        "from sklearn.linear_model import LinearRegression\n",
        "from sklearn.tree import DecisionTreeRegressor\n",
        "from sklearn.ensemble import RandomForestRegressor, GradientBoostingRegressor\n",
        "from sklearn.metrics import mean_absolute_error, mean_squared_error, r2_score\n",
        "import joblib"
      ]
    },
    {
      "cell_type": "markdown",
      "source": [
        "***Loading Data set***\n"
      ],
      "metadata": {
        "id": "AKYAuuWHwWP8"
      }
    },
    {
      "cell_type": "code",
      "source": [
        "data = pd.read_csv(\"/content/data.csv\")"
      ],
      "metadata": {
        "id": "vmcM6-m7vHmR"
      },
      "execution_count": null,
      "outputs": []
    },
    {
      "cell_type": "code",
      "source": [
        "data"
      ],
      "metadata": {
        "colab": {
          "base_uri": "https://localhost:8080/",
          "height": 808
        },
        "id": "Dz72RXiPv3Cb",
        "outputId": "9f7fe5d7-acdb-4045-cf68-08fdae36450a"
      },
      "execution_count": null,
      "outputs": [
        {
          "output_type": "execute_result",
          "data": {
            "text/plain": [
              "                     date         price  bedrooms  bathrooms  sqft_living  \\\n",
              "0     2014-05-02 00:00:00  3.130000e+05       3.0       1.50         1340   \n",
              "1     2014-05-02 00:00:00  2.384000e+06       5.0       2.50         3650   \n",
              "2     2014-05-02 00:00:00  3.420000e+05       3.0       2.00         1930   \n",
              "3     2014-05-02 00:00:00  4.200000e+05       3.0       2.25         2000   \n",
              "4     2014-05-02 00:00:00  5.500000e+05       4.0       2.50         1940   \n",
              "...                   ...           ...       ...        ...          ...   \n",
              "4595  2014-07-09 00:00:00  3.081667e+05       3.0       1.75         1510   \n",
              "4596  2014-07-09 00:00:00  5.343333e+05       3.0       2.50         1460   \n",
              "4597  2014-07-09 00:00:00  4.169042e+05       3.0       2.50         3010   \n",
              "4598  2014-07-10 00:00:00  2.034000e+05       4.0       2.00         2090   \n",
              "4599  2014-07-10 00:00:00  2.206000e+05       3.0       2.50         1490   \n",
              "\n",
              "      sqft_lot  floors  waterfront  view  condition  sqft_above  \\\n",
              "0         7912     1.5           0     0          3        1340   \n",
              "1         9050     2.0           0     4          5        3370   \n",
              "2        11947     1.0           0     0          4        1930   \n",
              "3         8030     1.0           0     0          4        1000   \n",
              "4        10500     1.0           0     0          4        1140   \n",
              "...        ...     ...         ...   ...        ...         ...   \n",
              "4595      6360     1.0           0     0          4        1510   \n",
              "4596      7573     2.0           0     0          3        1460   \n",
              "4597      7014     2.0           0     0          3        3010   \n",
              "4598      6630     1.0           0     0          3        1070   \n",
              "4599      8102     2.0           0     0          4        1490   \n",
              "\n",
              "      sqft_basement  yr_built  yr_renovated                    street  \\\n",
              "0                 0      1955          2005      18810 Densmore Ave N   \n",
              "1               280      1921             0           709 W Blaine St   \n",
              "2                 0      1966             0  26206-26214 143rd Ave SE   \n",
              "3              1000      1963             0           857 170th Pl NE   \n",
              "4               800      1976          1992         9105 170th Ave NE   \n",
              "...             ...       ...           ...                       ...   \n",
              "4595              0      1954          1979            501 N 143rd St   \n",
              "4596              0      1983          2009          14855 SE 10th Pl   \n",
              "4597              0      2009             0          759 Ilwaco Pl NE   \n",
              "4598           1020      1974             0         5148 S Creston St   \n",
              "4599              0      1990             0         18717 SE 258th St   \n",
              "\n",
              "           city  statezip country  \n",
              "0     Shoreline  WA 98133     USA  \n",
              "1       Seattle  WA 98119     USA  \n",
              "2          Kent  WA 98042     USA  \n",
              "3      Bellevue  WA 98008     USA  \n",
              "4       Redmond  WA 98052     USA  \n",
              "...         ...       ...     ...  \n",
              "4595    Seattle  WA 98133     USA  \n",
              "4596   Bellevue  WA 98007     USA  \n",
              "4597     Renton  WA 98059     USA  \n",
              "4598    Seattle  WA 98178     USA  \n",
              "4599  Covington  WA 98042     USA  \n",
              "\n",
              "[4600 rows x 18 columns]"
            ],
            "text/html": [
              "\n",
              "  <div id=\"df-7339d492-29a2-4a98-ba1f-2f7323dbc28d\" class=\"colab-df-container\">\n",
              "    <div>\n",
              "<style scoped>\n",
              "    .dataframe tbody tr th:only-of-type {\n",
              "        vertical-align: middle;\n",
              "    }\n",
              "\n",
              "    .dataframe tbody tr th {\n",
              "        vertical-align: top;\n",
              "    }\n",
              "\n",
              "    .dataframe thead th {\n",
              "        text-align: right;\n",
              "    }\n",
              "</style>\n",
              "<table border=\"1\" class=\"dataframe\">\n",
              "  <thead>\n",
              "    <tr style=\"text-align: right;\">\n",
              "      <th></th>\n",
              "      <th>date</th>\n",
              "      <th>price</th>\n",
              "      <th>bedrooms</th>\n",
              "      <th>bathrooms</th>\n",
              "      <th>sqft_living</th>\n",
              "      <th>sqft_lot</th>\n",
              "      <th>floors</th>\n",
              "      <th>waterfront</th>\n",
              "      <th>view</th>\n",
              "      <th>condition</th>\n",
              "      <th>sqft_above</th>\n",
              "      <th>sqft_basement</th>\n",
              "      <th>yr_built</th>\n",
              "      <th>yr_renovated</th>\n",
              "      <th>street</th>\n",
              "      <th>city</th>\n",
              "      <th>statezip</th>\n",
              "      <th>country</th>\n",
              "    </tr>\n",
              "  </thead>\n",
              "  <tbody>\n",
              "    <tr>\n",
              "      <th>0</th>\n",
              "      <td>2014-05-02 00:00:00</td>\n",
              "      <td>3.130000e+05</td>\n",
              "      <td>3.0</td>\n",
              "      <td>1.50</td>\n",
              "      <td>1340</td>\n",
              "      <td>7912</td>\n",
              "      <td>1.5</td>\n",
              "      <td>0</td>\n",
              "      <td>0</td>\n",
              "      <td>3</td>\n",
              "      <td>1340</td>\n",
              "      <td>0</td>\n",
              "      <td>1955</td>\n",
              "      <td>2005</td>\n",
              "      <td>18810 Densmore Ave N</td>\n",
              "      <td>Shoreline</td>\n",
              "      <td>WA 98133</td>\n",
              "      <td>USA</td>\n",
              "    </tr>\n",
              "    <tr>\n",
              "      <th>1</th>\n",
              "      <td>2014-05-02 00:00:00</td>\n",
              "      <td>2.384000e+06</td>\n",
              "      <td>5.0</td>\n",
              "      <td>2.50</td>\n",
              "      <td>3650</td>\n",
              "      <td>9050</td>\n",
              "      <td>2.0</td>\n",
              "      <td>0</td>\n",
              "      <td>4</td>\n",
              "      <td>5</td>\n",
              "      <td>3370</td>\n",
              "      <td>280</td>\n",
              "      <td>1921</td>\n",
              "      <td>0</td>\n",
              "      <td>709 W Blaine St</td>\n",
              "      <td>Seattle</td>\n",
              "      <td>WA 98119</td>\n",
              "      <td>USA</td>\n",
              "    </tr>\n",
              "    <tr>\n",
              "      <th>2</th>\n",
              "      <td>2014-05-02 00:00:00</td>\n",
              "      <td>3.420000e+05</td>\n",
              "      <td>3.0</td>\n",
              "      <td>2.00</td>\n",
              "      <td>1930</td>\n",
              "      <td>11947</td>\n",
              "      <td>1.0</td>\n",
              "      <td>0</td>\n",
              "      <td>0</td>\n",
              "      <td>4</td>\n",
              "      <td>1930</td>\n",
              "      <td>0</td>\n",
              "      <td>1966</td>\n",
              "      <td>0</td>\n",
              "      <td>26206-26214 143rd Ave SE</td>\n",
              "      <td>Kent</td>\n",
              "      <td>WA 98042</td>\n",
              "      <td>USA</td>\n",
              "    </tr>\n",
              "    <tr>\n",
              "      <th>3</th>\n",
              "      <td>2014-05-02 00:00:00</td>\n",
              "      <td>4.200000e+05</td>\n",
              "      <td>3.0</td>\n",
              "      <td>2.25</td>\n",
              "      <td>2000</td>\n",
              "      <td>8030</td>\n",
              "      <td>1.0</td>\n",
              "      <td>0</td>\n",
              "      <td>0</td>\n",
              "      <td>4</td>\n",
              "      <td>1000</td>\n",
              "      <td>1000</td>\n",
              "      <td>1963</td>\n",
              "      <td>0</td>\n",
              "      <td>857 170th Pl NE</td>\n",
              "      <td>Bellevue</td>\n",
              "      <td>WA 98008</td>\n",
              "      <td>USA</td>\n",
              "    </tr>\n",
              "    <tr>\n",
              "      <th>4</th>\n",
              "      <td>2014-05-02 00:00:00</td>\n",
              "      <td>5.500000e+05</td>\n",
              "      <td>4.0</td>\n",
              "      <td>2.50</td>\n",
              "      <td>1940</td>\n",
              "      <td>10500</td>\n",
              "      <td>1.0</td>\n",
              "      <td>0</td>\n",
              "      <td>0</td>\n",
              "      <td>4</td>\n",
              "      <td>1140</td>\n",
              "      <td>800</td>\n",
              "      <td>1976</td>\n",
              "      <td>1992</td>\n",
              "      <td>9105 170th Ave NE</td>\n",
              "      <td>Redmond</td>\n",
              "      <td>WA 98052</td>\n",
              "      <td>USA</td>\n",
              "    </tr>\n",
              "    <tr>\n",
              "      <th>...</th>\n",
              "      <td>...</td>\n",
              "      <td>...</td>\n",
              "      <td>...</td>\n",
              "      <td>...</td>\n",
              "      <td>...</td>\n",
              "      <td>...</td>\n",
              "      <td>...</td>\n",
              "      <td>...</td>\n",
              "      <td>...</td>\n",
              "      <td>...</td>\n",
              "      <td>...</td>\n",
              "      <td>...</td>\n",
              "      <td>...</td>\n",
              "      <td>...</td>\n",
              "      <td>...</td>\n",
              "      <td>...</td>\n",
              "      <td>...</td>\n",
              "      <td>...</td>\n",
              "    </tr>\n",
              "    <tr>\n",
              "      <th>4595</th>\n",
              "      <td>2014-07-09 00:00:00</td>\n",
              "      <td>3.081667e+05</td>\n",
              "      <td>3.0</td>\n",
              "      <td>1.75</td>\n",
              "      <td>1510</td>\n",
              "      <td>6360</td>\n",
              "      <td>1.0</td>\n",
              "      <td>0</td>\n",
              "      <td>0</td>\n",
              "      <td>4</td>\n",
              "      <td>1510</td>\n",
              "      <td>0</td>\n",
              "      <td>1954</td>\n",
              "      <td>1979</td>\n",
              "      <td>501 N 143rd St</td>\n",
              "      <td>Seattle</td>\n",
              "      <td>WA 98133</td>\n",
              "      <td>USA</td>\n",
              "    </tr>\n",
              "    <tr>\n",
              "      <th>4596</th>\n",
              "      <td>2014-07-09 00:00:00</td>\n",
              "      <td>5.343333e+05</td>\n",
              "      <td>3.0</td>\n",
              "      <td>2.50</td>\n",
              "      <td>1460</td>\n",
              "      <td>7573</td>\n",
              "      <td>2.0</td>\n",
              "      <td>0</td>\n",
              "      <td>0</td>\n",
              "      <td>3</td>\n",
              "      <td>1460</td>\n",
              "      <td>0</td>\n",
              "      <td>1983</td>\n",
              "      <td>2009</td>\n",
              "      <td>14855 SE 10th Pl</td>\n",
              "      <td>Bellevue</td>\n",
              "      <td>WA 98007</td>\n",
              "      <td>USA</td>\n",
              "    </tr>\n",
              "    <tr>\n",
              "      <th>4597</th>\n",
              "      <td>2014-07-09 00:00:00</td>\n",
              "      <td>4.169042e+05</td>\n",
              "      <td>3.0</td>\n",
              "      <td>2.50</td>\n",
              "      <td>3010</td>\n",
              "      <td>7014</td>\n",
              "      <td>2.0</td>\n",
              "      <td>0</td>\n",
              "      <td>0</td>\n",
              "      <td>3</td>\n",
              "      <td>3010</td>\n",
              "      <td>0</td>\n",
              "      <td>2009</td>\n",
              "      <td>0</td>\n",
              "      <td>759 Ilwaco Pl NE</td>\n",
              "      <td>Renton</td>\n",
              "      <td>WA 98059</td>\n",
              "      <td>USA</td>\n",
              "    </tr>\n",
              "    <tr>\n",
              "      <th>4598</th>\n",
              "      <td>2014-07-10 00:00:00</td>\n",
              "      <td>2.034000e+05</td>\n",
              "      <td>4.0</td>\n",
              "      <td>2.00</td>\n",
              "      <td>2090</td>\n",
              "      <td>6630</td>\n",
              "      <td>1.0</td>\n",
              "      <td>0</td>\n",
              "      <td>0</td>\n",
              "      <td>3</td>\n",
              "      <td>1070</td>\n",
              "      <td>1020</td>\n",
              "      <td>1974</td>\n",
              "      <td>0</td>\n",
              "      <td>5148 S Creston St</td>\n",
              "      <td>Seattle</td>\n",
              "      <td>WA 98178</td>\n",
              "      <td>USA</td>\n",
              "    </tr>\n",
              "    <tr>\n",
              "      <th>4599</th>\n",
              "      <td>2014-07-10 00:00:00</td>\n",
              "      <td>2.206000e+05</td>\n",
              "      <td>3.0</td>\n",
              "      <td>2.50</td>\n",
              "      <td>1490</td>\n",
              "      <td>8102</td>\n",
              "      <td>2.0</td>\n",
              "      <td>0</td>\n",
              "      <td>0</td>\n",
              "      <td>4</td>\n",
              "      <td>1490</td>\n",
              "      <td>0</td>\n",
              "      <td>1990</td>\n",
              "      <td>0</td>\n",
              "      <td>18717 SE 258th St</td>\n",
              "      <td>Covington</td>\n",
              "      <td>WA 98042</td>\n",
              "      <td>USA</td>\n",
              "    </tr>\n",
              "  </tbody>\n",
              "</table>\n",
              "<p>4600 rows × 18 columns</p>\n",
              "</div>\n",
              "    <div class=\"colab-df-buttons\">\n",
              "\n",
              "  <div class=\"colab-df-container\">\n",
              "    <button class=\"colab-df-convert\" onclick=\"convertToInteractive('df-7339d492-29a2-4a98-ba1f-2f7323dbc28d')\"\n",
              "            title=\"Convert this dataframe to an interactive table.\"\n",
              "            style=\"display:none;\">\n",
              "\n",
              "  <svg xmlns=\"http://www.w3.org/2000/svg\" height=\"24px\" viewBox=\"0 -960 960 960\">\n",
              "    <path d=\"M120-120v-720h720v720H120Zm60-500h600v-160H180v160Zm220 220h160v-160H400v160Zm0 220h160v-160H400v160ZM180-400h160v-160H180v160Zm440 0h160v-160H620v160ZM180-180h160v-160H180v160Zm440 0h160v-160H620v160Z\"/>\n",
              "  </svg>\n",
              "    </button>\n",
              "\n",
              "  <style>\n",
              "    .colab-df-container {\n",
              "      display:flex;\n",
              "      gap: 12px;\n",
              "    }\n",
              "\n",
              "    .colab-df-convert {\n",
              "      background-color: #E8F0FE;\n",
              "      border: none;\n",
              "      border-radius: 50%;\n",
              "      cursor: pointer;\n",
              "      display: none;\n",
              "      fill: #1967D2;\n",
              "      height: 32px;\n",
              "      padding: 0 0 0 0;\n",
              "      width: 32px;\n",
              "    }\n",
              "\n",
              "    .colab-df-convert:hover {\n",
              "      background-color: #E2EBFA;\n",
              "      box-shadow: 0px 1px 2px rgba(60, 64, 67, 0.3), 0px 1px 3px 1px rgba(60, 64, 67, 0.15);\n",
              "      fill: #174EA6;\n",
              "    }\n",
              "\n",
              "    .colab-df-buttons div {\n",
              "      margin-bottom: 4px;\n",
              "    }\n",
              "\n",
              "    [theme=dark] .colab-df-convert {\n",
              "      background-color: #3B4455;\n",
              "      fill: #D2E3FC;\n",
              "    }\n",
              "\n",
              "    [theme=dark] .colab-df-convert:hover {\n",
              "      background-color: #434B5C;\n",
              "      box-shadow: 0px 1px 3px 1px rgba(0, 0, 0, 0.15);\n",
              "      filter: drop-shadow(0px 1px 2px rgba(0, 0, 0, 0.3));\n",
              "      fill: #FFFFFF;\n",
              "    }\n",
              "  </style>\n",
              "\n",
              "    <script>\n",
              "      const buttonEl =\n",
              "        document.querySelector('#df-7339d492-29a2-4a98-ba1f-2f7323dbc28d button.colab-df-convert');\n",
              "      buttonEl.style.display =\n",
              "        google.colab.kernel.accessAllowed ? 'block' : 'none';\n",
              "\n",
              "      async function convertToInteractive(key) {\n",
              "        const element = document.querySelector('#df-7339d492-29a2-4a98-ba1f-2f7323dbc28d');\n",
              "        const dataTable =\n",
              "          await google.colab.kernel.invokeFunction('convertToInteractive',\n",
              "                                                    [key], {});\n",
              "        if (!dataTable) return;\n",
              "\n",
              "        const docLinkHtml = 'Like what you see? Visit the ' +\n",
              "          '<a target=\"_blank\" href=https://colab.research.google.com/notebooks/data_table.ipynb>data table notebook</a>'\n",
              "          + ' to learn more about interactive tables.';\n",
              "        element.innerHTML = '';\n",
              "        dataTable['output_type'] = 'display_data';\n",
              "        await google.colab.output.renderOutput(dataTable, element);\n",
              "        const docLink = document.createElement('div');\n",
              "        docLink.innerHTML = docLinkHtml;\n",
              "        element.appendChild(docLink);\n",
              "      }\n",
              "    </script>\n",
              "  </div>\n",
              "\n",
              "\n",
              "<div id=\"df-558716c9-d01a-45a9-9c98-616d0eeb741a\">\n",
              "  <button class=\"colab-df-quickchart\" onclick=\"quickchart('df-558716c9-d01a-45a9-9c98-616d0eeb741a')\"\n",
              "            title=\"Suggest charts\"\n",
              "            style=\"display:none;\">\n",
              "\n",
              "<svg xmlns=\"http://www.w3.org/2000/svg\" height=\"24px\"viewBox=\"0 0 24 24\"\n",
              "     width=\"24px\">\n",
              "    <g>\n",
              "        <path d=\"M19 3H5c-1.1 0-2 .9-2 2v14c0 1.1.9 2 2 2h14c1.1 0 2-.9 2-2V5c0-1.1-.9-2-2-2zM9 17H7v-7h2v7zm4 0h-2V7h2v10zm4 0h-2v-4h2v4z\"/>\n",
              "    </g>\n",
              "</svg>\n",
              "  </button>\n",
              "\n",
              "<style>\n",
              "  .colab-df-quickchart {\n",
              "      --bg-color: #E8F0FE;\n",
              "      --fill-color: #1967D2;\n",
              "      --hover-bg-color: #E2EBFA;\n",
              "      --hover-fill-color: #174EA6;\n",
              "      --disabled-fill-color: #AAA;\n",
              "      --disabled-bg-color: #DDD;\n",
              "  }\n",
              "\n",
              "  [theme=dark] .colab-df-quickchart {\n",
              "      --bg-color: #3B4455;\n",
              "      --fill-color: #D2E3FC;\n",
              "      --hover-bg-color: #434B5C;\n",
              "      --hover-fill-color: #FFFFFF;\n",
              "      --disabled-bg-color: #3B4455;\n",
              "      --disabled-fill-color: #666;\n",
              "  }\n",
              "\n",
              "  .colab-df-quickchart {\n",
              "    background-color: var(--bg-color);\n",
              "    border: none;\n",
              "    border-radius: 50%;\n",
              "    cursor: pointer;\n",
              "    display: none;\n",
              "    fill: var(--fill-color);\n",
              "    height: 32px;\n",
              "    padding: 0;\n",
              "    width: 32px;\n",
              "  }\n",
              "\n",
              "  .colab-df-quickchart:hover {\n",
              "    background-color: var(--hover-bg-color);\n",
              "    box-shadow: 0 1px 2px rgba(60, 64, 67, 0.3), 0 1px 3px 1px rgba(60, 64, 67, 0.15);\n",
              "    fill: var(--button-hover-fill-color);\n",
              "  }\n",
              "\n",
              "  .colab-df-quickchart-complete:disabled,\n",
              "  .colab-df-quickchart-complete:disabled:hover {\n",
              "    background-color: var(--disabled-bg-color);\n",
              "    fill: var(--disabled-fill-color);\n",
              "    box-shadow: none;\n",
              "  }\n",
              "\n",
              "  .colab-df-spinner {\n",
              "    border: 2px solid var(--fill-color);\n",
              "    border-color: transparent;\n",
              "    border-bottom-color: var(--fill-color);\n",
              "    animation:\n",
              "      spin 1s steps(1) infinite;\n",
              "  }\n",
              "\n",
              "  @keyframes spin {\n",
              "    0% {\n",
              "      border-color: transparent;\n",
              "      border-bottom-color: var(--fill-color);\n",
              "      border-left-color: var(--fill-color);\n",
              "    }\n",
              "    20% {\n",
              "      border-color: transparent;\n",
              "      border-left-color: var(--fill-color);\n",
              "      border-top-color: var(--fill-color);\n",
              "    }\n",
              "    30% {\n",
              "      border-color: transparent;\n",
              "      border-left-color: var(--fill-color);\n",
              "      border-top-color: var(--fill-color);\n",
              "      border-right-color: var(--fill-color);\n",
              "    }\n",
              "    40% {\n",
              "      border-color: transparent;\n",
              "      border-right-color: var(--fill-color);\n",
              "      border-top-color: var(--fill-color);\n",
              "    }\n",
              "    60% {\n",
              "      border-color: transparent;\n",
              "      border-right-color: var(--fill-color);\n",
              "    }\n",
              "    80% {\n",
              "      border-color: transparent;\n",
              "      border-right-color: var(--fill-color);\n",
              "      border-bottom-color: var(--fill-color);\n",
              "    }\n",
              "    90% {\n",
              "      border-color: transparent;\n",
              "      border-bottom-color: var(--fill-color);\n",
              "    }\n",
              "  }\n",
              "</style>\n",
              "\n",
              "  <script>\n",
              "    async function quickchart(key) {\n",
              "      const quickchartButtonEl =\n",
              "        document.querySelector('#' + key + ' button');\n",
              "      quickchartButtonEl.disabled = true;  // To prevent multiple clicks.\n",
              "      quickchartButtonEl.classList.add('colab-df-spinner');\n",
              "      try {\n",
              "        const charts = await google.colab.kernel.invokeFunction(\n",
              "            'suggestCharts', [key], {});\n",
              "      } catch (error) {\n",
              "        console.error('Error during call to suggestCharts:', error);\n",
              "      }\n",
              "      quickchartButtonEl.classList.remove('colab-df-spinner');\n",
              "      quickchartButtonEl.classList.add('colab-df-quickchart-complete');\n",
              "    }\n",
              "    (() => {\n",
              "      let quickchartButtonEl =\n",
              "        document.querySelector('#df-558716c9-d01a-45a9-9c98-616d0eeb741a button');\n",
              "      quickchartButtonEl.style.display =\n",
              "        google.colab.kernel.accessAllowed ? 'block' : 'none';\n",
              "    })();\n",
              "  </script>\n",
              "</div>\n",
              "\n",
              "  <div id=\"id_f1a0af8e-3013-466b-9ac3-4f8fa9f86dca\">\n",
              "    <style>\n",
              "      .colab-df-generate {\n",
              "        background-color: #E8F0FE;\n",
              "        border: none;\n",
              "        border-radius: 50%;\n",
              "        cursor: pointer;\n",
              "        display: none;\n",
              "        fill: #1967D2;\n",
              "        height: 32px;\n",
              "        padding: 0 0 0 0;\n",
              "        width: 32px;\n",
              "      }\n",
              "\n",
              "      .colab-df-generate:hover {\n",
              "        background-color: #E2EBFA;\n",
              "        box-shadow: 0px 1px 2px rgba(60, 64, 67, 0.3), 0px 1px 3px 1px rgba(60, 64, 67, 0.15);\n",
              "        fill: #174EA6;\n",
              "      }\n",
              "\n",
              "      [theme=dark] .colab-df-generate {\n",
              "        background-color: #3B4455;\n",
              "        fill: #D2E3FC;\n",
              "      }\n",
              "\n",
              "      [theme=dark] .colab-df-generate:hover {\n",
              "        background-color: #434B5C;\n",
              "        box-shadow: 0px 1px 3px 1px rgba(0, 0, 0, 0.15);\n",
              "        filter: drop-shadow(0px 1px 2px rgba(0, 0, 0, 0.3));\n",
              "        fill: #FFFFFF;\n",
              "      }\n",
              "    </style>\n",
              "    <button class=\"colab-df-generate\" onclick=\"generateWithVariable('data')\"\n",
              "            title=\"Generate code using this dataframe.\"\n",
              "            style=\"display:none;\">\n",
              "\n",
              "  <svg xmlns=\"http://www.w3.org/2000/svg\" height=\"24px\"viewBox=\"0 0 24 24\"\n",
              "       width=\"24px\">\n",
              "    <path d=\"M7,19H8.4L18.45,9,17,7.55,7,17.6ZM5,21V16.75L18.45,3.32a2,2,0,0,1,2.83,0l1.4,1.43a1.91,1.91,0,0,1,.58,1.4,1.91,1.91,0,0,1-.58,1.4L9.25,21ZM18.45,9,17,7.55Zm-12,3A5.31,5.31,0,0,0,4.9,8.1,5.31,5.31,0,0,0,1,6.5,5.31,5.31,0,0,0,4.9,4.9,5.31,5.31,0,0,0,6.5,1,5.31,5.31,0,0,0,8.1,4.9,5.31,5.31,0,0,0,12,6.5,5.46,5.46,0,0,0,6.5,12Z\"/>\n",
              "  </svg>\n",
              "    </button>\n",
              "    <script>\n",
              "      (() => {\n",
              "      const buttonEl =\n",
              "        document.querySelector('#id_f1a0af8e-3013-466b-9ac3-4f8fa9f86dca button.colab-df-generate');\n",
              "      buttonEl.style.display =\n",
              "        google.colab.kernel.accessAllowed ? 'block' : 'none';\n",
              "\n",
              "      buttonEl.onclick = () => {\n",
              "        google.colab.notebook.generateWithVariable('data');\n",
              "      }\n",
              "      })();\n",
              "    </script>\n",
              "  </div>\n",
              "\n",
              "    </div>\n",
              "  </div>\n"
            ],
            "application/vnd.google.colaboratory.intrinsic+json": {
              "type": "dataframe",
              "variable_name": "data",
              "summary": "{\n  \"name\": \"data\",\n  \"rows\": 4600,\n  \"fields\": [\n    {\n      \"column\": \"date\",\n      \"properties\": {\n        \"dtype\": \"object\",\n        \"num_unique_values\": 70,\n        \"samples\": [\n          \"2014-05-24 00:00:00\",\n          \"2014-05-02 00:00:00\",\n          \"2014-06-20 00:00:00\"\n        ],\n        \"semantic_type\": \"\",\n        \"description\": \"\"\n      }\n    },\n    {\n      \"column\": \"price\",\n      \"properties\": {\n        \"dtype\": \"number\",\n        \"std\": 563834.7025471417,\n        \"min\": 0.0,\n        \"max\": 26590000.0,\n        \"num_unique_values\": 1741,\n        \"samples\": [\n          689900.0,\n          170500.0,\n          466800.0\n        ],\n        \"semantic_type\": \"\",\n        \"description\": \"\"\n      }\n    },\n    {\n      \"column\": \"bedrooms\",\n      \"properties\": {\n        \"dtype\": \"number\",\n        \"std\": 0.9088481155258205,\n        \"min\": 0.0,\n        \"max\": 9.0,\n        \"num_unique_values\": 10,\n        \"samples\": [\n          8.0,\n          5.0,\n          7.0\n        ],\n        \"semantic_type\": \"\",\n        \"description\": \"\"\n      }\n    },\n    {\n      \"column\": \"bathrooms\",\n      \"properties\": {\n        \"dtype\": \"number\",\n        \"std\": 0.7837810746502787,\n        \"min\": 0.0,\n        \"max\": 8.0,\n        \"num_unique_values\": 26,\n        \"samples\": [\n          3.25,\n          5.75,\n          1.5\n        ],\n        \"semantic_type\": \"\",\n        \"description\": \"\"\n      }\n    },\n    {\n      \"column\": \"sqft_living\",\n      \"properties\": {\n        \"dtype\": \"number\",\n        \"std\": 963,\n        \"min\": 370,\n        \"max\": 13540,\n        \"num_unique_values\": 566,\n        \"samples\": [\n          1785,\n          2701,\n          2840\n        ],\n        \"semantic_type\": \"\",\n        \"description\": \"\"\n      }\n    },\n    {\n      \"column\": \"sqft_lot\",\n      \"properties\": {\n        \"dtype\": \"number\",\n        \"std\": 35884,\n        \"min\": 638,\n        \"max\": 1074218,\n        \"num_unique_values\": 3113,\n        \"samples\": [\n          5540,\n          9292,\n          17334\n        ],\n        \"semantic_type\": \"\",\n        \"description\": \"\"\n      }\n    },\n    {\n      \"column\": \"floors\",\n      \"properties\": {\n        \"dtype\": \"number\",\n        \"std\": 0.5382883772969805,\n        \"min\": 1.0,\n        \"max\": 3.5,\n        \"num_unique_values\": 6,\n        \"samples\": [\n          1.5,\n          2.0,\n          3.5\n        ],\n        \"semantic_type\": \"\",\n        \"description\": \"\"\n      }\n    },\n    {\n      \"column\": \"waterfront\",\n      \"properties\": {\n        \"dtype\": \"number\",\n        \"std\": 0,\n        \"min\": 0,\n        \"max\": 1,\n        \"num_unique_values\": 2,\n        \"samples\": [\n          1,\n          0\n        ],\n        \"semantic_type\": \"\",\n        \"description\": \"\"\n      }\n    },\n    {\n      \"column\": \"view\",\n      \"properties\": {\n        \"dtype\": \"number\",\n        \"std\": 0,\n        \"min\": 0,\n        \"max\": 4,\n        \"num_unique_values\": 5,\n        \"samples\": [\n          4,\n          3\n        ],\n        \"semantic_type\": \"\",\n        \"description\": \"\"\n      }\n    },\n    {\n      \"column\": \"condition\",\n      \"properties\": {\n        \"dtype\": \"number\",\n        \"std\": 0,\n        \"min\": 1,\n        \"max\": 5,\n        \"num_unique_values\": 5,\n        \"samples\": [\n          5,\n          1\n        ],\n        \"semantic_type\": \"\",\n        \"description\": \"\"\n      }\n    },\n    {\n      \"column\": \"sqft_above\",\n      \"properties\": {\n        \"dtype\": \"number\",\n        \"std\": 862,\n        \"min\": 370,\n        \"max\": 9410,\n        \"num_unique_values\": 511,\n        \"samples\": [\n          2280,\n          2230\n        ],\n        \"semantic_type\": \"\",\n        \"description\": \"\"\n      }\n    },\n    {\n      \"column\": \"sqft_basement\",\n      \"properties\": {\n        \"dtype\": \"number\",\n        \"std\": 464,\n        \"min\": 0,\n        \"max\": 4820,\n        \"num_unique_values\": 207,\n        \"samples\": [\n          460,\n          310\n        ],\n        \"semantic_type\": \"\",\n        \"description\": \"\"\n      }\n    },\n    {\n      \"column\": \"yr_built\",\n      \"properties\": {\n        \"dtype\": \"number\",\n        \"std\": 29,\n        \"min\": 1900,\n        \"max\": 2014,\n        \"num_unique_values\": 115,\n        \"samples\": [\n          1926,\n          1976\n        ],\n        \"semantic_type\": \"\",\n        \"description\": \"\"\n      }\n    },\n    {\n      \"column\": \"yr_renovated\",\n      \"properties\": {\n        \"dtype\": \"number\",\n        \"std\": 979,\n        \"min\": 0,\n        \"max\": 2014,\n        \"num_unique_values\": 60,\n        \"samples\": [\n          2005,\n          1988\n        ],\n        \"semantic_type\": \"\",\n        \"description\": \"\"\n      }\n    },\n    {\n      \"column\": \"street\",\n      \"properties\": {\n        \"dtype\": \"string\",\n        \"num_unique_values\": 4525,\n        \"samples\": [\n          \"743 N 80th St\",\n          \"157 Pike St NE\"\n        ],\n        \"semantic_type\": \"\",\n        \"description\": \"\"\n      }\n    },\n    {\n      \"column\": \"city\",\n      \"properties\": {\n        \"dtype\": \"category\",\n        \"num_unique_values\": 44,\n        \"samples\": [\n          \"Medina\",\n          \"Inglewood-Finn Hill\"\n        ],\n        \"semantic_type\": \"\",\n        \"description\": \"\"\n      }\n    },\n    {\n      \"column\": \"statezip\",\n      \"properties\": {\n        \"dtype\": \"category\",\n        \"num_unique_values\": 77,\n        \"samples\": [\n          \"WA 98052\",\n          \"WA 98075\"\n        ],\n        \"semantic_type\": \"\",\n        \"description\": \"\"\n      }\n    },\n    {\n      \"column\": \"country\",\n      \"properties\": {\n        \"dtype\": \"category\",\n        \"num_unique_values\": 1,\n        \"samples\": [\n          \"USA\"\n        ],\n        \"semantic_type\": \"\",\n        \"description\": \"\"\n      }\n    }\n  ]\n}"
            }
          },
          "metadata": {},
          "execution_count": 34
        }
      ]
    },
    {
      "cell_type": "code",
      "source": [
        "print(data.info())\n",
        "print(data.describe())"
      ],
      "metadata": {
        "colab": {
          "base_uri": "https://localhost:8080/"
        },
        "id": "aqWxpDRBv7na",
        "outputId": "0354c1a8-ddfd-479f-9b63-9ae92094b284"
      },
      "execution_count": null,
      "outputs": [
        {
          "output_type": "stream",
          "name": "stdout",
          "text": [
            "<class 'pandas.core.frame.DataFrame'>\n",
            "RangeIndex: 4600 entries, 0 to 4599\n",
            "Data columns (total 18 columns):\n",
            " #   Column         Non-Null Count  Dtype  \n",
            "---  ------         --------------  -----  \n",
            " 0   date           4600 non-null   object \n",
            " 1   price          4600 non-null   float64\n",
            " 2   bedrooms       4600 non-null   float64\n",
            " 3   bathrooms      4600 non-null   float64\n",
            " 4   sqft_living    4600 non-null   int64  \n",
            " 5   sqft_lot       4600 non-null   int64  \n",
            " 6   floors         4600 non-null   float64\n",
            " 7   waterfront     4600 non-null   int64  \n",
            " 8   view           4600 non-null   int64  \n",
            " 9   condition      4600 non-null   int64  \n",
            " 10  sqft_above     4600 non-null   int64  \n",
            " 11  sqft_basement  4600 non-null   int64  \n",
            " 12  yr_built       4600 non-null   int64  \n",
            " 13  yr_renovated   4600 non-null   int64  \n",
            " 14  street         4600 non-null   object \n",
            " 15  city           4600 non-null   object \n",
            " 16  statezip       4600 non-null   object \n",
            " 17  country        4600 non-null   object \n",
            "dtypes: float64(4), int64(9), object(5)\n",
            "memory usage: 647.0+ KB\n",
            "None\n",
            "              price     bedrooms    bathrooms   sqft_living      sqft_lot  \\\n",
            "count  4.600000e+03  4600.000000  4600.000000   4600.000000  4.600000e+03   \n",
            "mean   5.519630e+05     3.400870     2.160815   2139.346957  1.485252e+04   \n",
            "std    5.638347e+05     0.908848     0.783781    963.206916  3.588444e+04   \n",
            "min    0.000000e+00     0.000000     0.000000    370.000000  6.380000e+02   \n",
            "25%    3.228750e+05     3.000000     1.750000   1460.000000  5.000750e+03   \n",
            "50%    4.609435e+05     3.000000     2.250000   1980.000000  7.683000e+03   \n",
            "75%    6.549625e+05     4.000000     2.500000   2620.000000  1.100125e+04   \n",
            "max    2.659000e+07     9.000000     8.000000  13540.000000  1.074218e+06   \n",
            "\n",
            "            floors   waterfront         view    condition   sqft_above  \\\n",
            "count  4600.000000  4600.000000  4600.000000  4600.000000  4600.000000   \n",
            "mean      1.512065     0.007174     0.240652     3.451739  1827.265435   \n",
            "std       0.538288     0.084404     0.778405     0.677230   862.168977   \n",
            "min       1.000000     0.000000     0.000000     1.000000   370.000000   \n",
            "25%       1.000000     0.000000     0.000000     3.000000  1190.000000   \n",
            "50%       1.500000     0.000000     0.000000     3.000000  1590.000000   \n",
            "75%       2.000000     0.000000     0.000000     4.000000  2300.000000   \n",
            "max       3.500000     1.000000     4.000000     5.000000  9410.000000   \n",
            "\n",
            "       sqft_basement     yr_built  yr_renovated  \n",
            "count    4600.000000  4600.000000   4600.000000  \n",
            "mean      312.081522  1970.786304    808.608261  \n",
            "std       464.137228    29.731848    979.414536  \n",
            "min         0.000000  1900.000000      0.000000  \n",
            "25%         0.000000  1951.000000      0.000000  \n",
            "50%         0.000000  1976.000000      0.000000  \n",
            "75%       610.000000  1997.000000   1999.000000  \n",
            "max      4820.000000  2014.000000   2014.000000  \n"
          ]
        }
      ]
    },
    {
      "cell_type": "markdown",
      "source": [
        "##Dropping Null Values"
      ],
      "metadata": {
        "id": "agk4WFqqwql3"
      }
    },
    {
      "cell_type": "code",
      "source": [
        "data = data.dropna()"
      ],
      "metadata": {
        "id": "vo_YMjhFwQKn"
      },
      "execution_count": null,
      "outputs": []
    },
    {
      "cell_type": "code",
      "source": [
        "data = pd.get_dummies(data, drop_first=True)\n"
      ],
      "metadata": {
        "id": "Q2JwfTovw3ui"
      },
      "execution_count": null,
      "outputs": []
    },
    {
      "cell_type": "markdown",
      "source": [
        "# Split data into features and target variable"
      ],
      "metadata": {
        "id": "EnFktC9ZyDJY"
      }
    },
    {
      "cell_type": "code",
      "source": [
        "X = data.drop(columns=['price'])  # Replace 'Price' with the actual target column name\n",
        "y = data['price']"
      ],
      "metadata": {
        "id": "l7pj-bIKw5RP"
      },
      "execution_count": null,
      "outputs": []
    },
    {
      "cell_type": "code",
      "source": [
        "X_train, X_test, y_train, y_test = train_test_split(X, y, test_size=0.2, random_state=42)"
      ],
      "metadata": {
        "id": "rvkBr8iSx6Ms"
      },
      "execution_count": null,
      "outputs": []
    },
    {
      "cell_type": "markdown",
      "source": [
        "# Scale Features"
      ],
      "metadata": {
        "id": "HPqSlcO1yQXE"
      }
    },
    {
      "cell_type": "code",
      "source": [],
      "metadata": {
        "id": "zlIggOnXyXjO"
      },
      "execution_count": null,
      "outputs": []
    },
    {
      "cell_type": "code",
      "source": [
        "scaler = StandardScaler()\n",
        "X_train = scaler.fit_transform(X_train)\n",
        "X_test = scaler.transform(X_test)\n"
      ],
      "metadata": {
        "id": "GRerodK8yKdp"
      },
      "execution_count": null,
      "outputs": []
    },
    {
      "cell_type": "markdown",
      "source": [
        "# Training Models Using Algorithms"
      ],
      "metadata": {
        "id": "5_OactYgyctr"
      }
    },
    {
      "cell_type": "code",
      "source": [
        "models = {\n",
        "    \"Linear Regression\": LinearRegression(),\n",
        "    \"Decision Tree\": DecisionTreeRegressor(),\n",
        "    \"Random Forest\": RandomForestRegressor(n_estimators=100),\n",
        "    \"Gradient Boosting\": GradientBoostingRegressor(n_estimators=100)\n",
        "}\n",
        "\n",
        "best_model = None\n",
        "best_score = float('-inf')\n"
      ],
      "metadata": {
        "id": "Q104lX-iyi7q"
      },
      "execution_count": null,
      "outputs": []
    },
    {
      "cell_type": "code",
      "source": [
        "for name, model in models.items():\n",
        "    model.fit(X_train, y_train)\n",
        "    y_pred = model.predict(X_test)\n",
        "    score = r2_score(y_test, y_pred)\n",
        "    print(f\"\\n{name} Performance:\")\n",
        "    print(f\"MAE: {mean_absolute_error(y_test, y_pred)}\")\n",
        "    print(f\"MSE: {mean_squared_error(y_test, y_pred)}\")\n",
        "    print(f\"R2 Score: {score}\")\n",
        "\n",
        "    if score > best_score:\n",
        "        best_score = score\n",
        "        best_model = model\n",
        "\n",
        "# Save the best model\n",
        "joblib.dump(best_model, \"house_price_model.pkl\")"
      ],
      "metadata": {
        "colab": {
          "base_uri": "https://localhost:8080/"
        },
        "id": "2i-u7-ERylsf",
        "outputId": "4ddfe32f-bac1-45a0-bcc3-e523bdce59b7"
      },
      "execution_count": null,
      "outputs": [
        {
          "output_type": "stream",
          "name": "stdout",
          "text": [
            "\n",
            "Linear Regression Performance:\n",
            "MAE: 262113.66199590705\n",
            "MSE: 1146878987630.5042\n",
            "R2 Score: -0.12456057599100512\n",
            "\n",
            "Decision Tree Performance:\n",
            "MAE: 189420.7583027109\n",
            "MSE: 1006354437812.8162\n",
            "R2 Score: 0.013229348131982399\n",
            "\n",
            "Random Forest Performance:\n",
            "MAE: 157296.16901612235\n",
            "MSE: 971133102999.4583\n",
            "R2 Score: 0.04776527126953545\n",
            "\n",
            "Gradient Boosting Performance:\n",
            "MAE: 163359.3243692495\n",
            "MSE: 965496021211.1151\n",
            "R2 Score: 0.053292654726010524\n"
          ]
        },
        {
          "output_type": "execute_result",
          "data": {
            "text/plain": [
              "['house_price_model.pkl']"
            ]
          },
          "metadata": {},
          "execution_count": 42
        }
      ]
    },
    {
      "cell_type": "code",
      "source": [
        "if hasattr(best_model, 'feature_importances_'):\n",
        "    feature_importances = pd.Series(best_model.feature_importances_, index=X.columns)\n",
        "    feature_importances.nlargest(10).plot(kind='barh')\n",
        "    plt.title(\"Top 10 Important Features\")\n",
        "    plt.show()"
      ],
      "metadata": {
        "colab": {
          "base_uri": "https://localhost:8080/",
          "height": 452
        },
        "id": "kpedTlIay4__",
        "outputId": "cfeee5cd-ad35-4c1e-b897-270422ddc951"
      },
      "execution_count": null,
      "outputs": [
        {
          "output_type": "display_data",
          "data": {
            "text/plain": [
              "<Figure size 640x480 with 1 Axes>"
            ],
            "image/png": "[encoded data removed]"
          },
          "metadata": {}
        }
      ]
    },
    {
      "cell_type": "code",
      "source": [
        "def predict_price(new_data):\n",
        "    new_data = pd.DataFrame(new_data, index=[0])\n",
        "    new_data = pd.get_dummies(new_data, drop_first=True)\n",
        "    new_data = new_data.reindex(columns=X.columns, fill_value=0)\n",
        "    new_data_scaled = scaler.transform(new_data)\n",
        "    return best_model.predict(new_data_scaled)\n",
        "\n",
        "# Example Usage\n",
        "sample_data = {\"Feature1\": 3, \"Feature2\": 2000, \"Feature3\": \"Yes\"}  # Adjust as per dataset\n",
        "predicted_price = predict_price(sample_data)\n",
        "print(f\"Predicted House Price: {predicted_price[0]}\")"
      ],
      "metadata": {
        "colab": {
          "base_uri": "https://localhost:8080/"
        },
        "id": "PEyrSL3NzOZ8",
        "outputId": "c60f3e7c-cfe7-415a-de0d-411437d92581"
      },
      "execution_count": null,
      "outputs": [
        {
          "output_type": "stream",
          "name": "stdout",
          "text": [
            "Predicted House Price: 294714.80137032457\n"
          ]
        }
      ]
    },
    {
      "cell_type": "markdown",
      "source": [
        "#Simple  Exploratory Data Analysis\n"
      ],
      "metadata": {
        "id": "S1nevT4U0Npz"
      }
    },
    {
      "cell_type": "code",
      "source": [
        "plt.figure(figsize=(10, 6))\n",
        "sns.histplot(data['price'], bins=50, kde=True)\n",
        "plt.title(\"Price Distribution\")\n",
        "plt.show()\n"
      ],
      "metadata": {
        "colab": {
          "base_uri": "https://localhost:8080/",
          "height": 564
        },
        "id": "ae5E2Hgi0s_Z",
        "outputId": "85af54be-8c7e-4834-c10f-818821d34759"
      },
      "execution_count": null,
      "outputs": [
        {
          "output_type": "display_data",
          "data": {
            "text/plain": [
              "<Figure size 1000x600 with 1 Axes>"
            ],
            "image/png": "[encoded data removed]"
          },
          "metadata": {}
        }
      ]
    },
    {
      "cell_type": "code",
      "source": [
        "!apt-get install git\n",
        "\n"
      ],
      "metadata": {
        "colab": {
          "base_uri": "https://localhost:8080/"
        },
        "id": "iufoKp6X3syz",
        "outputId": "c3e4a0e8-d09e-4f53-c4f5-1379f757ea79"
      },
      "execution_count": null,
      "outputs": [
        {
          "output_type": "stream",
          "name": "stdout",
          "text": [
            "Reading package lists... Done\n",
            "Building dependency tree... Done\n",
            "Reading state information... Done\n",
            "git is already the newest version (1:2.34.1-1ubuntu1.12).\n",
            "0 upgraded, 0 newly installed, 0 to remove and 20 not upgraded.\n"
          ]
        }
      ]
    }
  ]
}